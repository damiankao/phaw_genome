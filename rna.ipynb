{
 "metadata": {
  "name": "",
  "signature": "sha256:a5dea916c24b75cfa75c71f1464b8c952a724944775a24e7e13d85e60dacb8ad"
 },
 "nbformat": 3,
 "nbformat_minor": 0,
 "worksheets": [
  {
   "cells": [
    {
     "cell_type": "code",
     "collapsed": false,
     "input": [
      "import gzip, os, sys\n",
      "#import custom functions for displaying tables, bash commands\n",
      "sys.path.append(os.path.abspath(\"/home/damian/\"))\n",
      "from dk_ipython import *\n",
      "from IPython.display import HTML\n",
      "import pandas as pd\n",
      "import seaborn as sns\n",
      "import matplotlib.pyplot as plt\n",
      "import scipy.stats as ss\n",
      "import scipy as sp\n",
      "import numpy as np\n",
      "\n",
      "%matplotlib inline\n",
      "HTML(addToggle())"
     ],
     "language": "python",
     "metadata": {},
     "outputs": [
      {
       "html": [
        "<script>\n",
        "code_show=true;\n",
        "function code_toggle() {\n",
        " if (code_show){\n",
        " $('div.input').hide();\n",
        " } else {\n",
        " $('div.input').show();\n",
        " }\n",
        " code_show = !code_show\n",
        "}\n",
        "\n",
        "$( document ).ready(code_toggle);\n",
        "</script>\n",
        "The raw code for this IPython notebook is by default hidden for easier reading.\n",
        "To toggle on/off the raw code, click <a href=\"javascript:code_toggle()\">here</a>."
       ],
       "metadata": {},
       "output_type": "pyout",
       "prompt_number": 1,
       "text": [
        "<IPython.core.display.HTML at 0x335a450>"
       ]
      }
     ],
     "prompt_number": 1
    },
    {
     "cell_type": "markdown",
     "metadata": {},
     "source": [
      "### RNA analysis\n",
      "\n",
      "Infernal 1.1.1 was used to scan the genome using RFAM 12.0 database:\n",
      "\n",
      "    cmscan --tblout out.tbl --cut_ga --cpu 5 RFAM.cms input.fa > out.cmscan\n",
      "    \n",
      "Hits above the gathering threshold of each covariance model (CM) were kept.\n",
      "\n",
      "The following RNA classifications were found:\n",
      "\n",
      "         83 Cis-reg;\n",
      "          1 Cis-reg; frameshift_element;\n",
      "          1 Cis-reg; IRES;\n",
      "          7 Gene;\n",
      "          1 Gene; antisense;\n",
      "          1 Gene; lncRNA;\n",
      "        155 Gene; miRNA;\n",
      "         44 Gene; ribozyme;\n",
      "        250 Gene; rRNA;\n",
      "         52 Gene; snRNA; snoRNA; CD-box;\n",
      "          3 Gene; snRNA; snoRNA; HACA-box;\n",
      "          4 Gene; snRNA; snoRNA; scaRNA;\n",
      "        199 Gene; snRNA; splicing;\n",
      "          4 Gene; sRNA;\n",
      "       1032 Gene; tRNA;\n",
      "          1 Intron;\n",
      "      \n",
      "These 6 Cis-reg classifications were found in 83 Cis-reg loci:\n",
      "\n",
      "        RF00032,Histone3,Cis-reg;\n",
      "        RF00222,IRES_Bag1,Cis-reg; IRES;\n",
      "        RF00383,IS1222_FSE,Cis-reg; frameshift_element;\n",
      "        RF00485,K_chan_RES,Cis-reg;\n",
      "        RF01068,mini-ykkC,Cis-reg;\n",
      "        RF02253,IRE_II,Cis-reg;\n",
      "            \n"
     ]
    },
    {
     "cell_type": "markdown",
     "metadata": {},
     "source": [
      "### Long non-coding RNAs\n",
      "\n",
      "A single conserved lncRNA was identified with RFAM:\n",
      "\n",
      "    phaw_30.0077363 490     573     RF02046,Sphinx_1,Gene; lncRNA;\n",
      "\n",
      "The assembled transcriptome was used as a starting point to identify more potential long non-coding RNAs. A series of filters were used to discard potentially coding transcripts:\n",
      "\n",
      "    - Discard any TransDecoder predicted coding transcripts. This is a general filter which should take care of transcripts with genic hexamer frequency and possible PFAM domains.\n",
      "    - Discard any transcript with a PFAM domain or hit to Unprot. In case TransDecoder missed out on transcript with mutations, we dsicard any transcript with possible coding homology.\n",
      "    - Discard any transcript that, when mapped to the genome, overlaps with an Augustus predicted gene.\n",
      "    - Discard any transcript that has less than 90% mapping coverage to the genome\n",
      "    \n",
      "From the leftover transcripts, the longest Trinity designated isoform was kept for each Trinity gene. \n",
      "    \n",
      "From an initial 292,924 transcripts:\n",
      "\n",
      " - 188,061 single exon transcripts were left over\n",
      " - 32,223 multi-exon transcripts were leftover\n",
      " \n",
      "Merging the genomic loci of all potential long-non-coding RNA by coordinate results in 163,670 genomic loci. \n",
      "\n",
      "By blasting the 220,284 putative long non-coding RNAs to the genomes of selected arthropod species (D.melanogaster, D. pulex, L. salmonis, D. magna, S. maritima, Z. nevadensis), we find 4 putative long non-coding RNA with a hit in one or more of the genomes with an alignment length at least 50% of the RNA length:\n",
      "\n",
      "\n",
      "    ID               exons    Length     Species:alignment%\n",
      "    c103103_g1_i1    1        304        dmag:0.57\n",
      "    c105813_g1_i1    2        269        dpul:0.39,dmag:0.19,znev:0.59    \n",
      "    c180715_g1_i1    1        300        dmag:0.63\n",
      "    c296232_g1_i1    2        233        dmel:1.0\n",
      "    "
     ]
    },
    {
     "cell_type": "markdown",
     "metadata": {},
     "source": [
      "### miRNA\n",
      "\n",
      "There are 155 loci classified as miRNA. Some loci were counted twice due to hits on both positive and minus strand. The following lists the 26 metazoan miRNA families classfied from 42 loci after filtering for strand redundancy:\n",
      "\n",
      "      * designates conserved bilateran micro-RNA (18 found)\n",
      "\n",
      "      1 bantam (protostomia)\n",
      "      2 let-7*\n",
      "      1 mir-1*\n",
      "      4 mir-10\n",
      "         mir-10 (eumetazoa)\n",
      "         mir-10 (eumetazoa)\n",
      "         mir-100*\n",
      "         mir-993 (ecdysozoa)\n",
      "      1 mir-124*\n",
      "      2 mir-133*\n",
      "      1 mir-137*\n",
      "      4 mir-184*\n",
      "      2 mir-190*\n",
      "      3 mir-2 (protostomia)\n",
      "      1 mir-210*\n",
      "      2 mir-219*\n",
      "      2 mir-282 (mandibulata)\n",
      "      2 mir-263*\n",
      "      1 mir-276 (arthropoda)\n",
      "      1 mir-285*\n",
      "      2 mir-33* (eumetazoa also)\n",
      "      1 mir-34/449*\n",
      "      2 mir-46*\n",
      "          mir-281\n",
      "          mir-281\n",
      "      2 mir-307 (protostomia)\n",
      "      1 mir-71*\n",
      "      1 mir-8*\n",
      "      2 mir-9*\n",
      "      1 mir-iab-4 (arthropoda)\n",
      "    \n",
      "The following groups of mirnas are on the same contigs:\n",
      "\n",
      "    mir-10, let-7\n",
      "    mir-210, mir-263\n",
      "    mir-71, mir-2, mir-2\n",
      "\n",
      "    "
     ]
    },
    {
     "cell_type": "markdown",
     "metadata": {},
     "source": [
      "### Potential novel mirnas\n",
      "\n",
      "To find all possible potential micro-RNA precursor loci on the genome, we used miRPARA software to scan the genome.\n",
      "\n",
      "    perl miRPARA.pl sequences.fasta\n",
      "    \n",
      "miRPARA outputs predicted mirnas in the following format:\n",
      "\n",
      "    mloci50464:239-306      acUCGUGAAGCAGGAGAUCCGCUGUCcgauguagaagcgaucguggaugcagcggauuaccuccacgg    mloci50464:239-306:3_24 UCGUGAAGCAGGAGAUCCGCUGUC        5P      0.924832        \n",
      "\n",
      "    Sequence name and coordinates, precursor sequence, mature sequence coordinates, 5p/3p, and a SVM probability score\n",
      "    \n",
      "A predicted precursor sequence from miRPARA can possibly have multiple good mature miRNA coordinates that differ by just a few bases according to the folding energy.\n",
      "\n",
      "For each sequence, the possible mature miRNA coordinates were consolidated (union of all coordinates) to produce a single region where the mature miRNA might be located.\n",
      "\n",
      "**Small RNA sequencing reads**\n",
      "\n",
      "A previous publication investigated the expression of small RNAs during P. hawaiensis embryogensis from stage 1-4 and stage 4-14:\n",
      "\n",
      "    Blythe MJ, Malla S, Everall R, Shih Y-h, Lemay V, Moreton J, et al. (2012) High Through-Put Sequencing of the Parhyale hawaiensis mRNAs and microRNAs to Aid Comparative Developmental Studies. PLoS ONE 7(3): e33784. doi:10.1371/journal.pone.0033784\n",
      "    \n",
      "ABI SOLiD 4 was used to sequence the small RNA libraries. The raw reads are deposited at: \n",
      "\n",
      "    http://www.ebi.ac.uk/ena/data/view/ERP001160\n",
      "    \n",
      "The small RNA reads were mapped to the genome to produce a bed file. For each potential micro-RNA precursors found with miRPARA, we generate a tag count based intersection of the precursor loci with small RNA read mapping location.\n",
      "\n",
      "We then classified these potential precursors based on known mature miRNA from mirbase and also small RNA reads mapping from a previous publication:\n",
      "\n",
      "**mirbase classification**\n",
      "\n",
      "For each family in mirbase, there are a list of 5P and 3P mature miRNA sequences available. The 5P and 3P for each family was aligned and a HMM was created. These HMMs were then used to scan the potential precursors sites for a match:\n",
      "\n",
      "    mafft --auto mir-5p.fa > mir-5p.mafft.fa\n",
      "    hmmbuild --rna mir-5p.mafft.hmm mir-5p.mafft.fa\n",
      "    cat *.hmm > mirbase.hmm\n",
      "    hmmprcess mirbase.hmm\n",
      "    hmmscan --domtblout --cpu 32 predicted.dom mirbase.hmm predicted.fa > predicted.hmmscan\n",
      "    \n",
      "Only mirbase families where there are multiple 5p or 3p sequeuces (paralogs in a single species or orthologs in multiple species) were used to construct the HMM. In total there are 733 HMMs constructed from 5p or 3p mature sequences representing 443 families. "
     ]
    },
    {
     "cell_type": "code",
     "collapsed": false,
     "input": [
      "prefix = '/home/share/projects/phaw_genome/draft_3.0/smallrna/'"
     ],
     "language": "python",
     "metadata": {},
     "outputs": [],
     "prompt_number": 2
    },
    {
     "cell_type": "code",
     "collapsed": false,
     "input": [
      "precFile = open(prefix + 'mirpara.tile.coords.hmm.renamed.smallRNA.genomeFeature.cleaned.hox.consolidated.bed')\n",
      "prec = []\n",
      "\n",
      "def ov(a,b):\n",
      "    a.sort()\n",
      "    b.sort()\n",
      "    return min(a[1],b[1]) - max(a[0],b[0])\n",
      "\n",
      "for line in precFile:\n",
      "    ref, start,end, pid, seq, five, three, hmm, count, feature, featureType, multi, distance, hox = line.strip().split('\\t')\n",
      "    five = map(int, five.split(','))\n",
      "    three = map(int, three.split(','))\n",
      "    hmmFam = 'NA'\n",
      "    hmmScore = -100\n",
      "    \n",
      "    if hmm != 'NA':\n",
      "        hmm = hmm.split(',')\n",
      "        hmm[0] = hmm[0].split('_')[0]\n",
      "        hmm[1] = float(hmm[1])\n",
      "        hmm[2] = int(hmm[2])\n",
      "        hmm[3] = int(hmm[3])\n",
      "        \n",
      "        if max(ov([hmm[2],hmm[3]],(five)),ov([hmm[2],hmm[3]],(three))) >= 8:\n",
      "            hmmFam = hmm[0]\n",
      "            hmmScore = hmm[1]\n",
      "    coords = ref + ':' + start + ',' + end\n",
      "    count = int(count)\n",
      "    prec.append([pid,hmmFam,hmmScore,count,coords, feature, featureType, multi, int(distance), hox])\n",
      "    \n",
      "precFile.close()"
     ],
     "language": "python",
     "metadata": {},
     "outputs": [],
     "prompt_number": 3
    },
    {
     "cell_type": "code",
     "collapsed": false,
     "input": [
      "prec = pd.DataFrame(prec)\n",
      "prec.columns = ['pid','fam','bscore','count','coords','feature','feature type','exons','distance','hox']"
     ],
     "language": "python",
     "metadata": {},
     "outputs": [],
     "prompt_number": 4
    },
    {
     "cell_type": "code",
     "collapsed": false,
     "input": [
      "print 'Number of potential precursors:', commas(len(prec))\n",
      "print 'Number of mirbase precursors identified by miRPARA: 69'\n",
      "print 'Avg bitscore of HMMs found on mirbase precursors indentified by miRPAR: 13.316'\n",
      "print\n",
      "print 'Number of mirbase families scanned: 733'\n",
      "print 'Log2 of # of mirbase families: 9.5'\n",
      "print\n",
      "print 'Number of potential precursors with HMM hit (any score):', commas(len(prec[prec['fam'] != 'NA']))\n",
      "print 'Number of potential precursors with HMM hit (>=5 bitscore):', \\\n",
      "commas(len(prec[prec['fam'] != 'NA'][prec['bscore'] >= 5]))\n",
      "print 'Number of potential precursors with HMM hit (>=10 bitscore):', \\\n",
      "commas(len(prec[prec['fam'] != 'NA'][prec['bscore'] >= 10]))\n",
      "print 'Number of potential precursors with HMM hit (>=13.316 bitscore):', \\\n",
      "commas(len(prec[prec['fam'] != 'NA'][prec['bscore'] >= 13]))\n",
      "print 'Number of potential precursors with HMM hit (>=15 bitscore):', \\\n",
      "commas(len(prec[prec['fam'] != 'NA'][prec['bscore'] >= 15]))\n",
      "print\n",
      "print 'Number of potential precursors with at least 1 small RNA read mapping:', commas(len(prec[prec['count'] > 0]))\n",
      "print 'Number of potential precursors with at least 5 small RNA read mapping:', commas(len(prec[prec['count'] >= 5]))\n",
      "print 'Number of potential precursors with at least 10 small RNA read mapping:', commas(len(prec[prec['count'] >= 10]))\n",
      "print 'Number of potential precursors with at least 100 small RNA read mapping:', commas(len(prec[prec['count'] >= 100]))\n",
      "print\n",
      "print 'Number of potential precursors within a lncrna or gene region:', commas(len(prec[prec['distance'] == 0]))\n",
      "print 'Number of potential precursors within 100bp a lncrna or gene region:', commas(len(prec[prec['distance'] <= 100]))\n",
      "print 'Number of potential precursors within 1000bp a lncrna or gene region:', commas(len(prec[prec['distance'] <= 1000]))\n",
      "print\n",
      "print 'Number of potential precursors within a lncrna region:', \\\n",
      "commas(len(prec[prec['feature'] == 'lncrna'][prec['distance'] == 0]))\n",
      "print 'Number of potential precursors within a lncrna exonic region:', \\\n",
      "commas(len(prec[prec['feature'] == 'lncrna'][prec['distance'] == 0][prec['feature type'] == 'exon']))\n",
      "print 'Number of potential precursors within a lncrna intronic region:', \\\n",
      "commas(len(prec[prec['feature'] == 'lncrna'][prec['distance'] == 0][prec['feature type'] == 'intron']))\n",
      "print\n",
      "print 'Number of potential precursors within a gene region:', \\\n",
      "commas(len(prec[prec['feature'] == 'gene'][prec['distance'] == 0]))\n",
      "print 'Number of potential precursors within a gene exonic region:', \\\n",
      "commas(len(prec[prec['feature'] == 'gene'][prec['distance'] == 0][prec['feature type'] == 'exon']))\n",
      "print 'Number of potential precursors within a gene intronic region:', \\\n",
      "commas(len(prec[prec['feature'] == 'gene'][prec['distance'] == 0][prec['feature type'] == 'intron']))\n",
      "print\n",
      "print 'Number of potential precursors within 1kb of a feature, more than 0 tag counts, and bitscore >= 10',\\\n",
      "commas(len(prec[prec['distance'] <= 1000][prec['count'] > 0][prec['bscore'] >= 10]))\n",
      "print 'Number of potential precursors with at least 1 tag count and within 100bp of a feature:',\\\n",
      "commas(len(prec[prec['distance'] <= 100][prec['count'] > 0]))"
     ],
     "language": "python",
     "metadata": {},
     "outputs": [
      {
       "output_type": "stream",
       "stream": "stdout",
       "text": [
        "Number of potential precursors: 1,345,483\n",
        "Number of mirbase precursors identified by miRPARA: 69\n",
        "Avg bitscore of HMMs found on mirbase precursors indentified by miRPAR: 13.316\n",
        "\n",
        "Number of mirbase families scanned: 733\n",
        "Log2 of # of mirbase families: 9.5\n",
        "\n",
        "Number of potential precursors with HMM hit (any score): "
       ]
      },
      {
       "output_type": "stream",
       "stream": "stdout",
       "text": [
        "36,159\n",
        "Number of potential precursors with HMM hit (>=5 bitscore): "
       ]
      },
      {
       "output_type": "stream",
       "stream": "stdout",
       "text": [
        "27,353\n",
        "Number of potential precursors with HMM hit (>=10 bitscore): "
       ]
      },
      {
       "output_type": "stream",
       "stream": "stdout",
       "text": [
        "5,960\n",
        "Number of potential precursors with HMM hit (>=13.316 bitscore): "
       ]
      },
      {
       "output_type": "stream",
       "stream": "stdout",
       "text": [
        "994\n",
        "Number of potential precursors with HMM hit (>=15 bitscore): "
       ]
      },
      {
       "output_type": "stream",
       "stream": "stdout",
       "text": [
        "214\n",
        "\n",
        "Number of potential precursors with at least 1 small RNA read mapping: "
       ]
      },
      {
       "output_type": "stream",
       "stream": "stdout",
       "text": [
        "419,575\n",
        "Number of potential precursors with at least 5 small RNA read mapping: 32,699\n",
        "Number of potential precursors with at least 10 small RNA read mapping: "
       ]
      },
      {
       "output_type": "stream",
       "stream": "stdout",
       "text": [
        "14,956\n",
        "Number of potential precursors with at least 100 small RNA read mapping: 1,403\n",
        "\n",
        "Number of potential precursors within a lncrna or gene region: "
       ]
      },
      {
       "output_type": "stream",
       "stream": "stdout",
       "text": [
        "330,074\n",
        "Number of potential precursors within 100bp a lncrna or gene region: "
       ]
      },
      {
       "output_type": "stream",
       "stream": "stdout",
       "text": [
        "825,387\n",
        "Number of potential precursors within 1000bp a lncrna or gene region: "
       ]
      },
      {
       "output_type": "stream",
       "stream": "stdout",
       "text": [
        "880,588\n",
        "\n",
        "Number of potential precursors within a lncrna region: "
       ]
      },
      {
       "output_type": "stream",
       "stream": "stdout",
       "text": [
        "102,315\n",
        "Number of potential precursors within a lncrna exonic region: "
       ]
      },
      {
       "output_type": "stream",
       "stream": "stdout",
       "text": [
        "32,223\n",
        "Number of potential precursors within a lncrna intronic region: "
       ]
      },
      {
       "output_type": "stream",
       "stream": "stdout",
       "text": [
        "70,092\n",
        "\n",
        "Number of potential precursors within a gene region: "
       ]
      },
      {
       "output_type": "stream",
       "stream": "stdout",
       "text": [
        "227,759\n",
        "Number of potential precursors within a gene exonic region: "
       ]
      },
      {
       "output_type": "stream",
       "stream": "stdout",
       "text": [
        "40,019\n",
        "Number of potential precursors within a gene intronic region: "
       ]
      },
      {
       "output_type": "stream",
       "stream": "stdout",
       "text": [
        "187,740\n",
        "\n",
        "Number of potential precursors within 1kb of a feature, more than 0 tag counts, and bitscore >= 10 "
       ]
      },
      {
       "output_type": "stream",
       "stream": "stdout",
       "text": [
        "1,196\n",
        "Number of potential precursors with at least 1 tag count and within 100bp of a feature: "
       ]
      },
      {
       "output_type": "stream",
       "stream": "stdout",
       "text": [
        "259,989\n"
       ]
      }
     ],
     "prompt_number": 6
    },
    {
     "cell_type": "code",
     "collapsed": false,
     "input": [
      "print 'Bitscore distribution of all precursors with HMM hits'\n",
      "prec[prec['fam'] != 'NA'][prec['bscore'] >= 0]['bscore'].hist(bins=50,figsize=[10,5])"
     ],
     "language": "python",
     "metadata": {},
     "outputs": [
      {
       "output_type": "stream",
       "stream": "stdout",
       "text": [
        "Bitscore distribution of all precursors with HMM hits\n"
       ]
      },
      {
       "metadata": {},
       "output_type": "pyout",
       "prompt_number": 7,
       "text": [
        "<matplotlib.axes.AxesSubplot at 0x59c2650>"
       ]
      },
      {
       "metadata": {},
       "output_type": "display_data",
       "png": "[encoded data removed]",
       "text": [
        "<matplotlib.figure.Figure at 0x59c2410>"
       ]
      }
     ],
     "prompt_number": 7
    },
    {
     "cell_type": "code",
     "collapsed": false,
     "input": [
      "print 'Bitscore distribution of all precursors with HMM hits and within a lncrna or gene feature'\n",
      "prec[prec['fam'] != 'NA'][prec['distance'] == 0]['bscore'].hist(bins=50,figsize=[10,5])"
     ],
     "language": "python",
     "metadata": {},
     "outputs": [
      {
       "output_type": "stream",
       "stream": "stdout",
       "text": [
        "Bitscore distribution of all precursors with HMM hits and within a lncrna or gene feature\n"
       ]
      },
      {
       "metadata": {},
       "output_type": "pyout",
       "prompt_number": 8,
       "text": [
        "<matplotlib.axes.AxesSubplot at 0x7b912d0>"
       ]
      },
      {
       "metadata": {},
       "output_type": "display_data",
       "png": "[encoded data removed]",
       "text": [
        "<matplotlib.figure.Figure at 0x7b9b290>"
       ]
      }
     ],
     "prompt_number": 8
    }
   ],
   "metadata": {}
  }
 ]
}