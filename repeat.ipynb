{
 "metadata": {
  "name": "",
  "signature": "sha256:564fac6ab39a14e84ebcbc01b0a41fcf4eabc06f633acad21c953913ee843f10"
 },
 "nbformat": 3,
 "nbformat_minor": 0,
 "worksheets": [
  {
   "cells": [
    {
     "cell_type": "code",
     "collapsed": false,
     "input": [
      "import gzip, os, sys\n",
      "#import custom functions for displaying tables, bash commands\n",
      "sys.path.append(os.path.abspath(\"/home/damian/\"))\n",
      "from dk_ipython import *\n",
      "from IPython.display import HTML\n",
      "import pandas as pd\n",
      "import seaborn as sns\n",
      "import matplotlib.pyplot as plt\n",
      "import scipy.stats as ss\n",
      "import scipy as sp\n",
      "\n",
      "%matplotlib inline\n",
      "HTML(addToggle())"
     ],
     "language": "python",
     "metadata": {},
     "outputs": [
      {
       "html": [
        "<script>\n",
        "code_show=true;\n",
        "function code_toggle() {\n",
        " if (code_show){\n",
        " $('div.input').hide();\n",
        " } else {\n",
        " $('div.input').show();\n",
        " }\n",
        " code_show = !code_show\n",
        "}\n",
        "\n",
        "$( document ).ready(code_toggle);\n",
        "</script>\n",
        "The raw code for this IPython notebook is by default hidden for easier reading.\n",
        "To toggle on/off the raw code, click <a href=\"javascript:code_toggle()\">here</a>."
       ],
       "metadata": {},
       "output_type": "pyout",
       "prompt_number": 8,
       "text": [
        "<IPython.core.display.HTML at 0x5abcc50>"
       ]
      }
     ],
     "prompt_number": 8
    },
    {
     "cell_type": "markdown",
     "metadata": {},
     "source": [
      "## Repeats\n",
      "\n",
      "RepeatModeler and RepeatMasker were used on the genome."
     ]
    },
    {
     "cell_type": "code",
     "collapsed": false,
     "input": [
      "prefix = '/home/share/projects/phaw_genome/draft_2.3_final/repeatmasker/data/'"
     ],
     "language": "python",
     "metadata": {},
     "outputs": [],
     "prompt_number": 9
    },
    {
     "cell_type": "code",
     "collapsed": false,
     "input": [
      "indexFile = open(prefix + 'db.index')\n",
      "index = {}\n",
      "\n",
      "for line in indexFile:\n",
      "    meta = line.strip().split('#')\n",
      "    index[meta[0]] = meta[1].split()[0]\n",
      "    \n",
      "#ran Dfam against unknown repeats found by repeatmodeler. 11 unknowns were classified:\n",
      "additional = '''rnd-4_family-4277#SINE/AluSg4\n",
      "rnd-5_family-1876#RC/Helitron2Na_Mam\n",
      "rnd-2_family-234#RC/Helitron3Na_Mam\n",
      "rnd-2_family-128#RC/Helitron3Na_Mam\n",
      "rnd-5_family-1876#RC/Helitron3Na_Mam\n",
      "rnd-4_family-493#RC/Helitron3Na_Mam\n",
      "rnd-2_family-332#RC/Helitron3Na_Mam\n",
      "rnd-6_family-1392#RC/Helitron3Na_Mam\n",
      "rnd-4_family-337#DNA/MER44A\n",
      "rnd-4_family-1409#DNA/Tigger7\n",
      "rnd-4_family-54#tRNA/tRNA-Tyr-TAC'''.split('\\n')\n",
      "for x in additional:\n",
      "    meta = x.split('#')\n",
      "    index[meta[0]] = meta[1]"
     ],
     "language": "python",
     "metadata": {},
     "outputs": [],
     "prompt_number": 10
    },
    {
     "cell_type": "code",
     "collapsed": false,
     "input": [
      "from collections import defaultdict\n",
      "repeatFile = open(prefix + 'repeat.sorted')\n",
      "repeats = defaultdict(int)\n",
      "\n",
      "unknowns = []\n",
      "for line in repeatFile:\n",
      "    meta = line.strip().split()\n",
      "    if meta[0][:3] == 'rnd':\n",
      "        repeats[index[meta[0]]] += int(meta[1])\n",
      "        if index[meta[0]] == \"Unknown\":\n",
      "            unknowns.append(meta[0])\n",
      "    else:\n",
      "        repeats[meta[0]] = int(meta[1])\n",
      "        \n",
      "repeats = repeats.items()\n",
      "repeats.sort(key = lambda x : x[1], reverse = True)"
     ],
     "language": "python",
     "metadata": {},
     "outputs": [],
     "prompt_number": 11
    },
    {
     "cell_type": "code",
     "collapsed": false,
     "input": [
      "repeatCounts = open(prefix + 'repeat.element.count')\n",
      "\n",
      "repeatTags = defaultdict(list)\n",
      "\n",
      "for line in repeatCounts:\n",
      "    meta = line.strip().split('\\t')\n",
      "    rid = '_'.join(meta[0].split('_')[:2])\n",
      "    start,end = meta[0].split('_')[-2:]\n",
      "    l = int(end) - int(start) + 1\n",
      "    repeatType = index[rid]\n",
      "    \n",
      "    if int(meta[1]) > 0:\n",
      "        repeatTags[repeatType].append((l,int(meta[1]), start, end, meta[0].split('_')[-3], rid))"
     ],
     "language": "python",
     "metadata": {},
     "outputs": [],
     "prompt_number": 12
    },
    {
     "cell_type": "code",
     "collapsed": false,
     "input": [
      "print 'bases of repeats:', sum([x[1] for x in repeats])\n",
      "print '% of genome:', sum([x[1] for x in repeats]) / 4237229237.0 * 100\n",
      "print '% of genome:', sum([x[1] for x in repeats]) / 2939407201.0 * 100"
     ],
     "language": "python",
     "metadata": {},
     "outputs": [
      {
       "output_type": "stream",
       "stream": "stdout",
       "text": [
        "bases of repeats: 1583691670\n",
        "% of genome: 37.375642936\n",
        "% of genome: 53.8779271365\n"
       ]
      }
     ],
     "prompt_number": 13
    },
    {
     "cell_type": "code",
     "collapsed": false,
     "input": [
      "repeatTable = ListTable()\n",
      "repeatTable.append(['repeat type','bases','% genome','# tags','number of bases'])\n",
      "\n",
      "for item in repeats:\n",
      "    repeatTable.append([item[0],\\\n",
      "                        commas(item[1]),\\\n",
      "                        item[1] / 4237229237.0 * 100,\\\n",
      "                        commas(sum([x[1] for x in repeatTags[item[0]]])),\\\n",
      "                        commas(sum([x[0] for x in repeatTags[item[0]]]))])\n",
      "repeatTable"
     ],
     "language": "python",
     "metadata": {},
     "outputs": [
      {
       "html": [
        "<table style='font-size:12px'><tr style='font-weight:bold'><td style='padding:4px 15px 4px 15px;border-color:white;text-align:center'>repeat type</td><td style='padding:4px 15px 4px 15px;border-color:white;text-align:center'>bases</td><td style='padding:4px 15px 4px 15px;border-color:white;text-align:center'>% genome</td><td style='padding:4px 15px 4px 15px;border-color:white;text-align:center'># tags</td><td style='padding:4px 15px 4px 15px;border-color:white;text-align:center'>number of bases</td></tr><tr style='background:#E8E8E8'><td style='padding:4px 15px 4px 15px;border-color:#B0B0B0;text-align:center'>Unknown</td><td style='padding:4px 15px 4px 15px;border-color:#B0B0B0;text-align:center'>935,233,022</td><td style='padding:4px 15px 4px 15px;border-color:#B0B0B0;text-align:center'>22.0718061188</td><td style='padding:4px 15px 4px 15px;border-color:#B0B0B0;text-align:center'>32,889,026</td><td style='padding:4px 15px 4px 15px;border-color:#B0B0B0;text-align:center'>217,412,412</td></tr><tr style='background:white'><td style='padding:4px 15px 4px 15px;border-color:#B0B0B0;text-align:center'>RC/Helitron3Na_Mam</td><td style='padding:4px 15px 4px 15px;border-color:#B0B0B0;text-align:center'>101,451,815</td><td style='padding:4px 15px 4px 15px;border-color:#B0B0B0;text-align:center'>2.39429611488</td><td style='padding:4px 15px 4px 15px;border-color:#B0B0B0;text-align:center'>1,408,381</td><td style='padding:4px 15px 4px 15px;border-color:#B0B0B0;text-align:center'>14,843,982</td></tr><tr style='background:#E8E8E8'><td style='padding:4px 15px 4px 15px;border-color:#B0B0B0;text-align:center'>LINE/CR1</td><td style='padding:4px 15px 4px 15px;border-color:#B0B0B0;text-align:center'>83,856,505</td><td style='padding:4px 15px 4px 15px;border-color:#B0B0B0;text-align:center'>1.9790410268</td><td style='padding:4px 15px 4px 15px;border-color:#B0B0B0;text-align:center'>1,163,649</td><td style='padding:4px 15px 4px 15px;border-color:#B0B0B0;text-align:center'>26,574,062</td></tr><tr style='background:white'><td style='padding:4px 15px 4px 15px;border-color:#B0B0B0;text-align:center'>DNA/TcMar-Tc1</td><td style='padding:4px 15px 4px 15px;border-color:#B0B0B0;text-align:center'>68,800,466</td><td style='padding:4px 15px 4px 15px;border-color:#B0B0B0;text-align:center'>1.62371356733</td><td style='padding:4px 15px 4px 15px;border-color:#B0B0B0;text-align:center'>1,097,485</td><td style='padding:4px 15px 4px 15px;border-color:#B0B0B0;text-align:center'>19,260,914</td></tr><tr style='background:#E8E8E8'><td style='padding:4px 15px 4px 15px;border-color:#B0B0B0;text-align:center'>LINE/CR1-Zenon</td><td style='padding:4px 15px 4px 15px;border-color:#B0B0B0;text-align:center'>66,234,301</td><td style='padding:4px 15px 4px 15px;border-color:#B0B0B0;text-align:center'>1.56315123151</td><td style='padding:4px 15px 4px 15px;border-color:#B0B0B0;text-align:center'>913,541</td><td style='padding:4px 15px 4px 15px;border-color:#B0B0B0;text-align:center'>22,571,609</td></tr><tr style='background:white'><td style='padding:4px 15px 4px 15px;border-color:#B0B0B0;text-align:center'>LINE/Penelope</td><td style='padding:4px 15px 4px 15px;border-color:#B0B0B0;text-align:center'>37,792,370</td><td style='padding:4px 15px 4px 15px;border-color:#B0B0B0;text-align:center'>0.891912329642</td><td style='padding:4px 15px 4px 15px;border-color:#B0B0B0;text-align:center'>383,764</td><td style='padding:4px 15px 4px 15px;border-color:#B0B0B0;text-align:center'>8,122,950</td></tr><tr style='background:#E8E8E8'><td style='padding:4px 15px 4px 15px;border-color:#B0B0B0;text-align:center'>LINE/Jockey</td><td style='padding:4px 15px 4px 15px;border-color:#B0B0B0;text-align:center'>26,618,441</td><td style='padding:4px 15px 4px 15px;border-color:#B0B0B0;text-align:center'>0.628203939677</td><td style='padding:4px 15px 4px 15px;border-color:#B0B0B0;text-align:center'>1,003,441</td><td style='padding:4px 15px 4px 15px;border-color:#B0B0B0;text-align:center'>10,181,920</td></tr><tr style='background:white'><td style='padding:4px 15px 4px 15px;border-color:#B0B0B0;text-align:center'>LINE/L2</td><td style='padding:4px 15px 4px 15px;border-color:#B0B0B0;text-align:center'>26,279,152</td><td style='padding:4px 15px 4px 15px;border-color:#B0B0B0;text-align:center'>0.620196607975</td><td style='padding:4px 15px 4px 15px;border-color:#B0B0B0;text-align:center'>296,593</td><td style='padding:4px 15px 4px 15px;border-color:#B0B0B0;text-align:center'>7,231,295</td></tr><tr style='background:#E8E8E8'><td style='padding:4px 15px 4px 15px;border-color:#B0B0B0;text-align:center'>Simple_repeat</td><td style='padding:4px 15px 4px 15px;border-color:#B0B0B0;text-align:center'>20,105,314</td><td style='padding:4px 15px 4px 15px;border-color:#B0B0B0;text-align:center'>0.474492005871</td><td style='padding:4px 15px 4px 15px;border-color:#B0B0B0;text-align:center'>138,709</td><td style='padding:4px 15px 4px 15px;border-color:#B0B0B0;text-align:center'>2,450,699</td></tr><tr style='background:white'><td style='padding:4px 15px 4px 15px;border-color:#B0B0B0;text-align:center'>DNA</td><td style='padding:4px 15px 4px 15px;border-color:#B0B0B0;text-align:center'>19,850,762</td><td style='padding:4px 15px 4px 15px;border-color:#B0B0B0;text-align:center'>0.468484495166</td><td style='padding:4px 15px 4px 15px;border-color:#B0B0B0;text-align:center'>563,621</td><td style='padding:4px 15px 4px 15px;border-color:#B0B0B0;text-align:center'>4,504,002</td></tr><tr style='background:#E8E8E8'><td style='padding:4px 15px 4px 15px;border-color:#B0B0B0;text-align:center'>DNA/hAT</td><td style='padding:4px 15px 4px 15px;border-color:#B0B0B0;text-align:center'>19,004,903</td><td style='padding:4px 15px 4px 15px;border-color:#B0B0B0;text-align:center'>0.448521945286</td><td style='padding:4px 15px 4px 15px;border-color:#B0B0B0;text-align:center'>122,935</td><td style='padding:4px 15px 4px 15px;border-color:#B0B0B0;text-align:center'>3,020,093</td></tr><tr style='background:white'><td style='padding:4px 15px 4px 15px;border-color:#B0B0B0;text-align:center'>DNA/TcMar-Mariner</td><td style='padding:4px 15px 4px 15px;border-color:#B0B0B0;text-align:center'>17,929,117</td><td style='padding:4px 15px 4px 15px;border-color:#B0B0B0;text-align:center'>0.423133042778</td><td style='padding:4px 15px 4px 15px;border-color:#B0B0B0;text-align:center'>332,566</td><td style='padding:4px 15px 4px 15px;border-color:#B0B0B0;text-align:center'>4,016,488</td></tr><tr style='background:#E8E8E8'><td style='padding:4px 15px 4px 15px;border-color:#B0B0B0;text-align:center'>LINE/I</td><td style='padding:4px 15px 4px 15px;border-color:#B0B0B0;text-align:center'>17,212,473</td><td style='padding:4px 15px 4px 15px;border-color:#B0B0B0;text-align:center'>0.406220009286</td><td style='padding:4px 15px 4px 15px;border-color:#B0B0B0;text-align:center'>1,045,699</td><td style='padding:4px 15px 4px 15px;border-color:#B0B0B0;text-align:center'>10,060,579</td></tr><tr style='background:white'><td style='padding:4px 15px 4px 15px;border-color:#B0B0B0;text-align:center'>LINE/Proto2</td><td style='padding:4px 15px 4px 15px;border-color:#B0B0B0;text-align:center'>16,193,628</td><td style='padding:4px 15px 4px 15px;border-color:#B0B0B0;text-align:center'>0.382174933058</td><td style='padding:4px 15px 4px 15px;border-color:#B0B0B0;text-align:center'>178,252</td><td style='padding:4px 15px 4px 15px;border-color:#B0B0B0;text-align:center'>4,102,078</td></tr><tr style='background:#E8E8E8'><td style='padding:4px 15px 4px 15px;border-color:#B0B0B0;text-align:center'>short</td><td style='padding:4px 15px 4px 15px;border-color:#B0B0B0;text-align:center'>14,614,446</td><td style='padding:4px 15px 4px 15px;border-color:#B0B0B0;text-align:center'>0.344905719813</td><td style='padding:4px 15px 4px 15px;border-color:#B0B0B0;text-align:center'>0</td><td style='padding:4px 15px 4px 15px;border-color:#B0B0B0;text-align:center'>0</td></tr><tr style='background:white'><td style='padding:4px 15px 4px 15px;border-color:#B0B0B0;text-align:center'>LTR/Gypsy</td><td style='padding:4px 15px 4px 15px;border-color:#B0B0B0;text-align:center'>12,002,252</td><td style='padding:4px 15px 4px 15px;border-color:#B0B0B0;text-align:center'>0.283257084493</td><td style='padding:4px 15px 4px 15px;border-color:#B0B0B0;text-align:center'>270,335</td><td style='padding:4px 15px 4px 15px;border-color:#B0B0B0;text-align:center'>5,307,125</td></tr><tr style='background:#E8E8E8'><td style='padding:4px 15px 4px 15px;border-color:#B0B0B0;text-align:center'>LINE/Dong-R4</td><td style='padding:4px 15px 4px 15px;border-color:#B0B0B0;text-align:center'>8,950,083</td><td style='padding:4px 15px 4px 15px;border-color:#B0B0B0;text-align:center'>0.21122489484</td><td style='padding:4px 15px 4px 15px;border-color:#B0B0B0;text-align:center'>67,028</td><td style='padding:4px 15px 4px 15px;border-color:#B0B0B0;text-align:center'>2,889,126</td></tr><tr style='background:white'><td style='padding:4px 15px 4px 15px;border-color:#B0B0B0;text-align:center'>DNA/hAT-Tip100</td><td style='padding:4px 15px 4px 15px;border-color:#B0B0B0;text-align:center'>7,315,075</td><td style='padding:4px 15px 4px 15px;border-color:#B0B0B0;text-align:center'>0.172638169682</td><td style='padding:4px 15px 4px 15px;border-color:#B0B0B0;text-align:center'>45,153</td><td style='padding:4px 15px 4px 15px;border-color:#B0B0B0;text-align:center'>1,657,740</td></tr><tr style='background:#E8E8E8'><td style='padding:4px 15px 4px 15px;border-color:#B0B0B0;text-align:center'>DNA/Maverick</td><td style='padding:4px 15px 4px 15px;border-color:#B0B0B0;text-align:center'>6,431,581</td><td style='padding:4px 15px 4px 15px;border-color:#B0B0B0;text-align:center'>0.151787421455</td><td style='padding:4px 15px 4px 15px;border-color:#B0B0B0;text-align:center'>33,601</td><td style='padding:4px 15px 4px 15px;border-color:#B0B0B0;text-align:center'>2,554,784</td></tr><tr style='background:white'><td style='padding:4px 15px 4px 15px;border-color:#B0B0B0;text-align:center'>LINE/RTE-BovB</td><td style='padding:4px 15px 4px 15px;border-color:#B0B0B0;text-align:center'>6,330,019</td><td style='padding:4px 15px 4px 15px;border-color:#B0B0B0;text-align:center'>0.149390524938</td><td style='padding:4px 15px 4px 15px;border-color:#B0B0B0;text-align:center'>55,334</td><td style='padding:4px 15px 4px 15px;border-color:#B0B0B0;text-align:center'>1,661,551</td></tr><tr style='background:#E8E8E8'><td style='padding:4px 15px 4px 15px;border-color:#B0B0B0;text-align:center'>DNA/hAT-Charlie</td><td style='padding:4px 15px 4px 15px;border-color:#B0B0B0;text-align:center'>5,638,368</td><td style='padding:4px 15px 4px 15px;border-color:#B0B0B0;text-align:center'>0.133067334445</td><td style='padding:4px 15px 4px 15px;border-color:#B0B0B0;text-align:center'>244,675</td><td style='padding:4px 15px 4px 15px;border-color:#B0B0B0;text-align:center'>1,165,914</td></tr><tr style='background:white'><td style='padding:4px 15px 4px 15px;border-color:#B0B0B0;text-align:center'>LTR/Pao</td><td style='padding:4px 15px 4px 15px;border-color:#B0B0B0;text-align:center'>5,340,240</td><td style='padding:4px 15px 4px 15px;border-color:#B0B0B0;text-align:center'>0.126031415845</td><td style='padding:4px 15px 4px 15px;border-color:#B0B0B0;text-align:center'>24,397</td><td style='padding:4px 15px 4px 15px;border-color:#B0B0B0;text-align:center'>1,496,645</td></tr><tr style='background:#E8E8E8'><td style='padding:4px 15px 4px 15px;border-color:#B0B0B0;text-align:center'>DNA/hAT-Tag1</td><td style='padding:4px 15px 4px 15px;border-color:#B0B0B0;text-align:center'>4,452,813</td><td style='padding:4px 15px 4px 15px;border-color:#B0B0B0;text-align:center'>0.105087847528</td><td style='padding:4px 15px 4px 15px;border-color:#B0B0B0;text-align:center'>69,971</td><td style='padding:4px 15px 4px 15px;border-color:#B0B0B0;text-align:center'>1,287,416</td></tr><tr style='background:white'><td style='padding:4px 15px 4px 15px;border-color:#B0B0B0;text-align:center'>Satellite</td><td style='padding:4px 15px 4px 15px;border-color:#B0B0B0;text-align:center'>4,372,776</td><td style='padding:4px 15px 4px 15px;border-color:#B0B0B0;text-align:center'>0.103198948072</td><td style='padding:4px 15px 4px 15px;border-color:#B0B0B0;text-align:center'>234,115</td><td style='padding:4px 15px 4px 15px;border-color:#B0B0B0;text-align:center'>2,164,104</td></tr><tr style='background:#E8E8E8'><td style='padding:4px 15px 4px 15px;border-color:#B0B0B0;text-align:center'>DNA/MER44A</td><td style='padding:4px 15px 4px 15px;border-color:#B0B0B0;text-align:center'>4,084,747</td><td style='padding:4px 15px 4px 15px;border-color:#B0B0B0;text-align:center'>0.0964013691856</td><td style='padding:4px 15px 4px 15px;border-color:#B0B0B0;text-align:center'>37,865</td><td style='padding:4px 15px 4px 15px;border-color:#B0B0B0;text-align:center'>707,090</td></tr><tr style='background:white'><td style='padding:4px 15px 4px 15px;border-color:#B0B0B0;text-align:center'>DNA/MULE-MuDR</td><td style='padding:4px 15px 4px 15px;border-color:#B0B0B0;text-align:center'>4,001,542</td><td style='padding:4px 15px 4px 15px;border-color:#B0B0B0;text-align:center'>0.0944377038905</td><td style='padding:4px 15px 4px 15px;border-color:#B0B0B0;text-align:center'>72,515</td><td style='padding:4px 15px 4px 15px;border-color:#B0B0B0;text-align:center'>742,631</td></tr><tr style='background:#E8E8E8'><td style='padding:4px 15px 4px 15px;border-color:#B0B0B0;text-align:center'>LINE/I-Nimb</td><td style='padding:4px 15px 4px 15px;border-color:#B0B0B0;text-align:center'>3,722,118</td><td style='padding:4px 15px 4px 15px;border-color:#B0B0B0;text-align:center'>0.0878432058265</td><td style='padding:4px 15px 4px 15px;border-color:#B0B0B0;text-align:center'>114,096</td><td style='padding:4px 15px 4px 15px;border-color:#B0B0B0;text-align:center'>2,022,292</td></tr><tr style='background:white'><td style='padding:4px 15px 4px 15px;border-color:#B0B0B0;text-align:center'>DNA/CMC-Chapaev-3</td><td style='padding:4px 15px 4px 15px;border-color:#B0B0B0;text-align:center'>3,471,760</td><td style='padding:4px 15px 4px 15px;border-color:#B0B0B0;text-align:center'>0.0819346748976</td><td style='padding:4px 15px 4px 15px;border-color:#B0B0B0;text-align:center'>80,844</td><td style='padding:4px 15px 4px 15px;border-color:#B0B0B0;text-align:center'>556,876</td></tr><tr style='background:#E8E8E8'><td style='padding:4px 15px 4px 15px;border-color:#B0B0B0;text-align:center'>DNA/TcMar-Tigger</td><td style='padding:4px 15px 4px 15px;border-color:#B0B0B0;text-align:center'>3,211,307</td><td style='padding:4px 15px 4px 15px;border-color:#B0B0B0;text-align:center'>0.0757878986569</td><td style='padding:4px 15px 4px 15px;border-color:#B0B0B0;text-align:center'>46,944</td><td style='padding:4px 15px 4px 15px;border-color:#B0B0B0;text-align:center'>588,020</td></tr><tr style='background:white'><td style='padding:4px 15px 4px 15px;border-color:#B0B0B0;text-align:center'>DNA/hAT-Ac</td><td style='padding:4px 15px 4px 15px;border-color:#B0B0B0;text-align:center'>3,078,352</td><td style='padding:4px 15px 4px 15px;border-color:#B0B0B0;text-align:center'>0.0726501170416</td><td style='padding:4px 15px 4px 15px;border-color:#B0B0B0;text-align:center'>128,451</td><td style='padding:4px 15px 4px 15px;border-color:#B0B0B0;text-align:center'>1,174,197</td></tr><tr style='background:#E8E8E8'><td style='padding:4px 15px 4px 15px;border-color:#B0B0B0;text-align:center'>LINE/RTE-X</td><td style='padding:4px 15px 4px 15px;border-color:#B0B0B0;text-align:center'>2,744,437</td><td style='padding:4px 15px 4px 15px;border-color:#B0B0B0;text-align:center'>0.064769613502</td><td style='padding:4px 15px 4px 15px;border-color:#B0B0B0;text-align:center'>22,085</td><td style='padding:4px 15px 4px 15px;border-color:#B0B0B0;text-align:center'>1,137,235</td></tr><tr style='background:white'><td style='padding:4px 15px 4px 15px;border-color:#B0B0B0;text-align:center'>DNA/Ginger</td><td style='padding:4px 15px 4px 15px;border-color:#B0B0B0;text-align:center'>2,580,371</td><td style='padding:4px 15px 4px 15px;border-color:#B0B0B0;text-align:center'>0.0608976020808</td><td style='padding:4px 15px 4px 15px;border-color:#B0B0B0;text-align:center'>44,607</td><td style='padding:4px 15px 4px 15px;border-color:#B0B0B0;text-align:center'>611,435</td></tr><tr style='background:#E8E8E8'><td style='padding:4px 15px 4px 15px;border-color:#B0B0B0;text-align:center'>DNA/CMC-EnSpm</td><td style='padding:4px 15px 4px 15px;border-color:#B0B0B0;text-align:center'>2,203,524</td><td style='padding:4px 15px 4px 15px;border-color:#B0B0B0;text-align:center'>0.0520038892576</td><td style='padding:4px 15px 4px 15px;border-color:#B0B0B0;text-align:center'>14,062</td><td style='padding:4px 15px 4px 15px;border-color:#B0B0B0;text-align:center'>535,386</td></tr><tr style='background:white'><td style='padding:4px 15px 4px 15px;border-color:#B0B0B0;text-align:center'>LTR/Copia</td><td style='padding:4px 15px 4px 15px;border-color:#B0B0B0;text-align:center'>1,734,822</td><td style='padding:4px 15px 4px 15px;border-color:#B0B0B0;text-align:center'>0.0409423683017</td><td style='padding:4px 15px 4px 15px;border-color:#B0B0B0;text-align:center'>11,660</td><td style='padding:4px 15px 4px 15px;border-color:#B0B0B0;text-align:center'>626,602</td></tr><tr style='background:#E8E8E8'><td style='padding:4px 15px 4px 15px;border-color:#B0B0B0;text-align:center'>DNA/P</td><td style='padding:4px 15px 4px 15px;border-color:#B0B0B0;text-align:center'>1,562,840</td><td style='padding:4px 15px 4px 15px;border-color:#B0B0B0;text-align:center'>0.0368835366837</td><td style='padding:4px 15px 4px 15px;border-color:#B0B0B0;text-align:center'>33,717</td><td style='padding:4px 15px 4px 15px;border-color:#B0B0B0;text-align:center'>410,739</td></tr><tr style='background:white'><td style='padding:4px 15px 4px 15px;border-color:#B0B0B0;text-align:center'>LINE</td><td style='padding:4px 15px 4px 15px;border-color:#B0B0B0;text-align:center'>1,513,129</td><td style='padding:4px 15px 4px 15px;border-color:#B0B0B0;text-align:center'>0.0357103407762</td><td style='padding:4px 15px 4px 15px;border-color:#B0B0B0;text-align:center'>14,007</td><td style='padding:4px 15px 4px 15px;border-color:#B0B0B0;text-align:center'>506,116</td></tr><tr style='background:#E8E8E8'><td style='padding:4px 15px 4px 15px;border-color:#B0B0B0;text-align:center'>LTR/DIRS</td><td style='padding:4px 15px 4px 15px;border-color:#B0B0B0;text-align:center'>1,446,892</td><td style='padding:4px 15px 4px 15px;border-color:#B0B0B0;text-align:center'>0.0341471258474</td><td style='padding:4px 15px 4px 15px;border-color:#B0B0B0;text-align:center'>445,125</td><td style='padding:4px 15px 4px 15px;border-color:#B0B0B0;text-align:center'>1,017,888</td></tr><tr style='background:white'><td style='padding:4px 15px 4px 15px;border-color:#B0B0B0;text-align:center'>DNA/PIF-Harbinger</td><td style='padding:4px 15px 4px 15px;border-color:#B0B0B0;text-align:center'>1,298,397</td><td style='padding:4px 15px 4px 15px;border-color:#B0B0B0;text-align:center'>0.0306425951342</td><td style='padding:4px 15px 4px 15px;border-color:#B0B0B0;text-align:center'>28,009</td><td style='padding:4px 15px 4px 15px;border-color:#B0B0B0;text-align:center'>390,000</td></tr><tr style='background:#E8E8E8'><td style='padding:4px 15px 4px 15px;border-color:#B0B0B0;text-align:center'>DNA/hAT-Blackjack</td><td style='padding:4px 15px 4px 15px;border-color:#B0B0B0;text-align:center'>1,148,525</td><td style='padding:4px 15px 4px 15px;border-color:#B0B0B0;text-align:center'>0.0271055667692</td><td style='padding:4px 15px 4px 15px;border-color:#B0B0B0;text-align:center'>35,677</td><td style='padding:4px 15px 4px 15px;border-color:#B0B0B0;text-align:center'>261,406</td></tr><tr style='background:white'><td style='padding:4px 15px 4px 15px;border-color:#B0B0B0;text-align:center'>DNA/hAT-hAT5</td><td style='padding:4px 15px 4px 15px;border-color:#B0B0B0;text-align:center'>1,141,398</td><td style='padding:4px 15px 4px 15px;border-color:#B0B0B0;text-align:center'>0.0269373672312</td><td style='padding:4px 15px 4px 15px;border-color:#B0B0B0;text-align:center'>76,288</td><td style='padding:4px 15px 4px 15px;border-color:#B0B0B0;text-align:center'>598,844</td></tr><tr style='background:#E8E8E8'><td style='padding:4px 15px 4px 15px;border-color:#B0B0B0;text-align:center'>DNA/hAT-Tol2</td><td style='padding:4px 15px 4px 15px;border-color:#B0B0B0;text-align:center'>1,107,684</td><td style='padding:4px 15px 4px 15px;border-color:#B0B0B0;text-align:center'>0.0261417057715</td><td style='padding:4px 15px 4px 15px;border-color:#B0B0B0;text-align:center'>4,743</td><td style='padding:4px 15px 4px 15px;border-color:#B0B0B0;text-align:center'>163,772</td></tr><tr style='background:white'><td style='padding:4px 15px 4px 15px;border-color:#B0B0B0;text-align:center'>DNA/Tigger7</td><td style='padding:4px 15px 4px 15px;border-color:#B0B0B0;text-align:center'>1,074,729</td><td style='padding:4px 15px 4px 15px;border-color:#B0B0B0;text-align:center'>0.0253639569607</td><td style='padding:4px 15px 4px 15px;border-color:#B0B0B0;text-align:center'>11,617</td><td style='padding:4px 15px 4px 15px;border-color:#B0B0B0;text-align:center'>519,733</td></tr><tr style='background:#E8E8E8'><td style='padding:4px 15px 4px 15px;border-color:#B0B0B0;text-align:center'>DNA/hAT-hATm</td><td style='padding:4px 15px 4px 15px;border-color:#B0B0B0;text-align:center'>1,068,486</td><td style='padding:4px 15px 4px 15px;border-color:#B0B0B0;text-align:center'>0.0252166201127</td><td style='padding:4px 15px 4px 15px;border-color:#B0B0B0;text-align:center'>14,477</td><td style='padding:4px 15px 4px 15px;border-color:#B0B0B0;text-align:center'>162,618</td></tr><tr style='background:white'><td style='padding:4px 15px 4px 15px;border-color:#B0B0B0;text-align:center'>DNA/Merlin</td><td style='padding:4px 15px 4px 15px;border-color:#B0B0B0;text-align:center'>936,885</td><td style='padding:4px 15px 4px 15px;border-color:#B0B0B0;text-align:center'>0.0221107933415</td><td style='padding:4px 15px 4px 15px;border-color:#B0B0B0;text-align:center'>12,915</td><td style='padding:4px 15px 4px 15px;border-color:#B0B0B0;text-align:center'>103,981</td></tr><tr style='background:#E8E8E8'><td style='padding:4px 15px 4px 15px;border-color:#B0B0B0;text-align:center'>tRNA/tRNA-Tyr-TAC</td><td style='padding:4px 15px 4px 15px;border-color:#B0B0B0;text-align:center'>798,129</td><td style='padding:4px 15px 4px 15px;border-color:#B0B0B0;text-align:center'>0.0188361062232</td><td style='padding:4px 15px 4px 15px;border-color:#B0B0B0;text-align:center'>11,056</td><td style='padding:4px 15px 4px 15px;border-color:#B0B0B0;text-align:center'>70,914</td></tr><tr style='background:white'><td style='padding:4px 15px 4px 15px;border-color:#B0B0B0;text-align:center'>A-rich</td><td style='padding:4px 15px 4px 15px;border-color:#B0B0B0;text-align:center'>784,194</td><td style='padding:4px 15px 4px 15px;border-color:#B0B0B0;text-align:center'>0.0185072356518</td><td style='padding:4px 15px 4px 15px;border-color:#B0B0B0;text-align:center'>0</td><td style='padding:4px 15px 4px 15px;border-color:#B0B0B0;text-align:center'>0</td></tr><tr style='background:#E8E8E8'><td style='padding:4px 15px 4px 15px;border-color:#B0B0B0;text-align:center'>DNA/CMC-Chapaev</td><td style='padding:4px 15px 4px 15px;border-color:#B0B0B0;text-align:center'>630,495</td><td style='padding:4px 15px 4px 15px;border-color:#B0B0B0;text-align:center'>0.0148798888315</td><td style='padding:4px 15px 4px 15px;border-color:#B0B0B0;text-align:center'>10,328</td><td style='padding:4px 15px 4px 15px;border-color:#B0B0B0;text-align:center'>48,023</td></tr><tr style='background:white'><td style='padding:4px 15px 4px 15px;border-color:#B0B0B0;text-align:center'>DNA/Academ</td><td style='padding:4px 15px 4px 15px;border-color:#B0B0B0;text-align:center'>574,063</td><td style='padding:4px 15px 4px 15px;border-color:#B0B0B0;text-align:center'>0.0135480751192</td><td style='padding:4px 15px 4px 15px;border-color:#B0B0B0;text-align:center'>1,046</td><td style='padding:4px 15px 4px 15px;border-color:#B0B0B0;text-align:center'>81,771</td></tr><tr style='background:#E8E8E8'><td style='padding:4px 15px 4px 15px;border-color:#B0B0B0;text-align:center'>LINE/L1-Tx1</td><td style='padding:4px 15px 4px 15px;border-color:#B0B0B0;text-align:center'>524,451</td><td style='padding:4px 15px 4px 15px;border-color:#B0B0B0;text-align:center'>0.0123772156441</td><td style='padding:4px 15px 4px 15px;border-color:#B0B0B0;text-align:center'>547</td><td style='padding:4px 15px 4px 15px;border-color:#B0B0B0;text-align:center'>44,765</td></tr><tr style='background:white'><td style='padding:4px 15px 4px 15px;border-color:#B0B0B0;text-align:center'>DNA/Sola</td><td style='padding:4px 15px 4px 15px;border-color:#B0B0B0;text-align:center'>494,505</td><td style='padding:4px 15px 4px 15px;border-color:#B0B0B0;text-align:center'>0.0116704802205</td><td style='padding:4px 15px 4px 15px;border-color:#B0B0B0;text-align:center'>16,971</td><td style='padding:4px 15px 4px 15px;border-color:#B0B0B0;text-align:center'>181,976</td></tr><tr style='background:#E8E8E8'><td style='padding:4px 15px 4px 15px;border-color:#B0B0B0;text-align:center'>DNA/MuLE-MuDR</td><td style='padding:4px 15px 4px 15px;border-color:#B0B0B0;text-align:center'>483,236</td><td style='padding:4px 15px 4px 15px;border-color:#B0B0B0;text-align:center'>0.0114045281237</td><td style='padding:4px 15px 4px 15px;border-color:#B0B0B0;text-align:center'>4,024</td><td style='padding:4px 15px 4px 15px;border-color:#B0B0B0;text-align:center'>145,202</td></tr><tr style='background:white'><td style='padding:4px 15px 4px 15px;border-color:#B0B0B0;text-align:center'>DNA/hAT-hATx</td><td style='padding:4px 15px 4px 15px;border-color:#B0B0B0;text-align:center'>453,462</td><td style='padding:4px 15px 4px 15px;border-color:#B0B0B0;text-align:center'>0.0107018519565</td><td style='padding:4px 15px 4px 15px;border-color:#B0B0B0;text-align:center'>4,520</td><td style='padding:4px 15px 4px 15px;border-color:#B0B0B0;text-align:center'>40,765</td></tr><tr style='background:#E8E8E8'><td style='padding:4px 15px 4px 15px;border-color:#B0B0B0;text-align:center'>DNA/TcMar-Stowaway</td><td style='padding:4px 15px 4px 15px;border-color:#B0B0B0;text-align:center'>453,269</td><td style='padding:4px 15px 4px 15px;border-color:#B0B0B0;text-align:center'>0.0106972970932</td><td style='padding:4px 15px 4px 15px;border-color:#B0B0B0;text-align:center'>22,499</td><td style='padding:4px 15px 4px 15px;border-color:#B0B0B0;text-align:center'>78,386</td></tr><tr style='background:white'><td style='padding:4px 15px 4px 15px;border-color:#B0B0B0;text-align:center'>DNA/TcMar-m44</td><td style='padding:4px 15px 4px 15px;border-color:#B0B0B0;text-align:center'>419,014</td><td style='padding:4px 15px 4px 15px;border-color:#B0B0B0;text-align:center'>0.00988886785594</td><td style='padding:4px 15px 4px 15px;border-color:#B0B0B0;text-align:center'>7,743</td><td style='padding:4px 15px 4px 15px;border-color:#B0B0B0;text-align:center'>81,518</td></tr><tr style='background:#E8E8E8'><td style='padding:4px 15px 4px 15px;border-color:#B0B0B0;text-align:center'>DNA/hAT-hobo</td><td style='padding:4px 15px 4px 15px;border-color:#B0B0B0;text-align:center'>411,985</td><td style='padding:4px 15px 4px 15px;border-color:#B0B0B0;text-align:center'>0.0097229811501</td><td style='padding:4px 15px 4px 15px;border-color:#B0B0B0;text-align:center'>3,421</td><td style='padding:4px 15px 4px 15px;border-color:#B0B0B0;text-align:center'>125,269</td></tr><tr style='background:white'><td style='padding:4px 15px 4px 15px;border-color:#B0B0B0;text-align:center'>DNA/PiggyBac</td><td style='padding:4px 15px 4px 15px;border-color:#B0B0B0;text-align:center'>411,256</td><td style='padding:4px 15px 4px 15px;border-color:#B0B0B0;text-align:center'>0.00970577651095</td><td style='padding:4px 15px 4px 15px;border-color:#B0B0B0;text-align:center'>3,826</td><td style='padding:4px 15px 4px 15px;border-color:#B0B0B0;text-align:center'>120,442</td></tr><tr style='background:#E8E8E8'><td style='padding:4px 15px 4px 15px;border-color:#B0B0B0;text-align:center'>SINE/AluSg4</td><td style='padding:4px 15px 4px 15px;border-color:#B0B0B0;text-align:center'>362,484</td><td style='padding:4px 15px 4px 15px;border-color:#B0B0B0;text-align:center'>0.00855474131149</td><td style='padding:4px 15px 4px 15px;border-color:#B0B0B0;text-align:center'>33,966</td><td style='padding:4px 15px 4px 15px;border-color:#B0B0B0;text-align:center'>72,604</td></tr><tr style='background:white'><td style='padding:4px 15px 4px 15px;border-color:#B0B0B0;text-align:center'>LTR</td><td style='padding:4px 15px 4px 15px;border-color:#B0B0B0;text-align:center'>330,040</td><td style='padding:4px 15px 4px 15px;border-color:#B0B0B0;text-align:center'>0.00778905226836</td><td style='padding:4px 15px 4px 15px;border-color:#B0B0B0;text-align:center'>6,205</td><td style='padding:4px 15px 4px 15px;border-color:#B0B0B0;text-align:center'>100,873</td></tr><tr style='background:#E8E8E8'><td style='padding:4px 15px 4px 15px;border-color:#B0B0B0;text-align:center'>DNA/TcMar-Fot1</td><td style='padding:4px 15px 4px 15px;border-color:#B0B0B0;text-align:center'>324,492</td><td style='padding:4px 15px 4px 15px;border-color:#B0B0B0;text-align:center'>0.00765811764836</td><td style='padding:4px 15px 4px 15px;border-color:#B0B0B0;text-align:center'>6,739</td><td style='padding:4px 15px 4px 15px;border-color:#B0B0B0;text-align:center'>103,615</td></tr><tr style='background:white'><td style='padding:4px 15px 4px 15px;border-color:#B0B0B0;text-align:center'>LINE/DRE</td><td style='padding:4px 15px 4px 15px;border-color:#B0B0B0;text-align:center'>319,010</td><td style='padding:4px 15px 4px 15px;border-color:#B0B0B0;text-align:center'>0.00752874065001</td><td style='padding:4px 15px 4px 15px;border-color:#B0B0B0;text-align:center'>1,348</td><td style='padding:4px 15px 4px 15px;border-color:#B0B0B0;text-align:center'>38,563</td></tr><tr style='background:#E8E8E8'><td style='padding:4px 15px 4px 15px;border-color:#B0B0B0;text-align:center'>GA-rich</td><td style='padding:4px 15px 4px 15px;border-color:#B0B0B0;text-align:center'>225,142</td><td style='padding:4px 15px 4px 15px;border-color:#B0B0B0;text-align:center'>0.00531342505697</td><td style='padding:4px 15px 4px 15px;border-color:#B0B0B0;text-align:center'>0</td><td style='padding:4px 15px 4px 15px;border-color:#B0B0B0;text-align:center'>0</td></tr><tr style='background:white'><td style='padding:4px 15px 4px 15px;border-color:#B0B0B0;text-align:center'>LINE/CRE-II</td><td style='padding:4px 15px 4px 15px;border-color:#B0B0B0;text-align:center'>209,268</td><td style='padding:4px 15px 4px 15px;border-color:#B0B0B0;text-align:center'>0.00493879344956</td><td style='padding:4px 15px 4px 15px;border-color:#B0B0B0;text-align:center'>1,539</td><td style='padding:4px 15px 4px 15px;border-color:#B0B0B0;text-align:center'>46,786</td></tr><tr style='background:#E8E8E8'><td style='padding:4px 15px 4px 15px;border-color:#B0B0B0;text-align:center'>LTR/ERVL</td><td style='padding:4px 15px 4px 15px;border-color:#B0B0B0;text-align:center'>158,220</td><td style='padding:4px 15px 4px 15px;border-color:#B0B0B0;text-align:center'>0.00373404390346</td><td style='padding:4px 15px 4px 15px;border-color:#B0B0B0;text-align:center'>492</td><td style='padding:4px 15px 4px 15px;border-color:#B0B0B0;text-align:center'>13,662</td></tr><tr style='background:white'><td style='padding:4px 15px 4px 15px;border-color:#B0B0B0;text-align:center'>DNA/TcMar-ISRm11</td><td style='padding:4px 15px 4px 15px;border-color:#B0B0B0;text-align:center'>118,126</td><td style='padding:4px 15px 4px 15px;border-color:#B0B0B0;text-align:center'>0.00278781235078</td><td style='padding:4px 15px 4px 15px;border-color:#B0B0B0;text-align:center'>499</td><td style='padding:4px 15px 4px 15px;border-color:#B0B0B0;text-align:center'>29,284</td></tr><tr style='background:#E8E8E8'><td style='padding:4px 15px 4px 15px;border-color:#B0B0B0;text-align:center'>G-rich</td><td style='padding:4px 15px 4px 15px;border-color:#B0B0B0;text-align:center'>64,962</td><td style='padding:4px 15px 4px 15px;border-color:#B0B0B0;text-align:center'>0.00153312451053</td><td style='padding:4px 15px 4px 15px;border-color:#B0B0B0;text-align:center'>0</td><td style='padding:4px 15px 4px 15px;border-color:#B0B0B0;text-align:center'>0</td></tr></table>"
       ],
       "metadata": {},
       "output_type": "pyout",
       "prompt_number": 65,
       "text": [
        "[['repeat type', 'bases', '% genome', '# tags', 'number of bases'],\n",
        " ['Unknown', '935,233,022', 22.071806118805934, '32,889,026', '217,412,412'],\n",
        " ['RC/Helitron3Na_Mam',\n",
        "  '101,451,815',\n",
        "  2.394296114878809,\n",
        "  '1,408,381',\n",
        "  '14,843,982'],\n",
        " ['LINE/CR1', '83,856,505', 1.9790410268048473, '1,163,649', '26,574,062'],\n",
        " ['DNA/TcMar-Tc1',\n",
        "  '68,800,466',\n",
        "  1.6237135673289982,\n",
        "  '1,097,485',\n",
        "  '19,260,914'],\n",
        " ['LINE/CR1-Zenon', '66,234,301', 1.5631512315084122, '913,541', '22,571,609'],\n",
        " ['LINE/Penelope', '37,792,370', 0.8919123296420319, '383,764', '8,122,950'],\n",
        " ['LINE/Jockey', '26,618,441', 0.6282039396774795, '1,003,441', '10,181,920'],\n",
        " ['LINE/L2', '26,279,152', 0.6201966079750243, '296,593', '7,231,295'],\n",
        " ['Simple_repeat', '20,105,314', 0.47449200587114704, '138,709', '2,450,699'],\n",
        " ['DNA', '19,850,762', 0.4684844951663398, '563,621', '4,504,002'],\n",
        " ['DNA/hAT', '19,004,903', 0.44852194528553896, '122,935', '3,020,093'],\n",
        " ['DNA/TcMar-Mariner',\n",
        "  '17,929,117',\n",
        "  0.4231330427780676,\n",
        "  '332,566',\n",
        "  '4,016,488'],\n",
        " ['LINE/I', '17,212,473', 0.406220009285752, '1,045,699', '10,060,579'],\n",
        " ['LINE/Proto2', '16,193,628', 0.3821749330575574, '178,252', '4,102,078'],\n",
        " ['short', '14,614,446', 0.344905719812959, '0', '0'],\n",
        " ['LTR/Gypsy', '12,002,252', 0.28325708449273596, '270,335', '5,307,125'],\n",
        " ['LINE/Dong-R4', '8,950,083', 0.21122489484040158, '67,028', '2,889,126'],\n",
        " ['DNA/hAT-Tip100', '7,315,075', 0.17263816968229798, '45,153', '1,657,740'],\n",
        " ['DNA/Maverick', '6,431,581', 0.15178742145547977, '33,601', '2,554,784'],\n",
        " ['LINE/RTE-BovB', '6,330,019', 0.1493905249384552, '55,334', '1,661,551'],\n",
        " ['DNA/hAT-Charlie', '5,638,368', 0.13306733444499735, '244,675', '1,165,914'],\n",
        " ['LTR/Pao', '5,340,240', 0.1260314158452504, '24,397', '1,496,645'],\n",
        " ['DNA/hAT-Tag1', '4,452,813', 0.10508784752822661, '69,971', '1,287,416'],\n",
        " ['Satellite', '4,372,776', 0.10319894807239573, '234,115', '2,164,104'],\n",
        " ['DNA/MER44A', '4,084,747', 0.09640136918558696, '37,865', '707,090'],\n",
        " ['DNA/MULE-MuDR', '4,001,542', 0.09443770389050585, '72,515', '742,631'],\n",
        " ['LINE/I-Nimb', '3,722,118', 0.08784320582653432, '114,096', '2,022,292'],\n",
        " ['DNA/CMC-Chapaev-3', '3,471,760', 0.08193467489755263, '80,844', '556,876'],\n",
        " ['DNA/TcMar-Tigger', '3,211,307', 0.07578789865694491, '46,944', '588,020'],\n",
        " ['DNA/hAT-Ac', '3,078,352', 0.07265011704156708, '128,451', '1,174,197'],\n",
        " ['LINE/RTE-X', '2,744,437', 0.06476961350203202, '22,085', '1,137,235'],\n",
        " ['DNA/Ginger', '2,580,371', 0.06089760208080996, '44,607', '611,435'],\n",
        " ['DNA/CMC-EnSpm', '2,203,524', 0.05200388925759694, '14,062', '535,386'],\n",
        " ['LTR/Copia', '1,734,822', 0.040942368301703475, '11,660', '626,602'],\n",
        " ['DNA/P', '1,562,840', 0.036883536683667985, '33,717', '410,739'],\n",
        " ['LINE', '1,513,129', 0.0357103407761651, '14,007', '506,116'],\n",
        " ['LTR/DIRS', '1,446,892', 0.034147125847371285, '445,125', '1,017,888'],\n",
        " ['DNA/PIF-Harbinger', '1,298,397', 0.030642595134156063, '28,009', '390,000'],\n",
        " ['DNA/hAT-Blackjack', '1,148,525', 0.027105566769221268, '35,677', '261,406'],\n",
        " ['DNA/hAT-hAT5', '1,141,398', 0.026937367231236256, '76,288', '598,844'],\n",
        " ['DNA/hAT-Tol2', '1,107,684', 0.02614170577148786, '4,743', '163,772'],\n",
        " ['DNA/Tigger7', '1,074,729', 0.025363956960726505, '11,617', '519,733'],\n",
        " ['DNA/hAT-hATm', '1,068,486', 0.0252166201127343, '14,477', '162,618'],\n",
        " ['DNA/Merlin', '936,885', 0.02211079334153098, '12,915', '103,981'],\n",
        " ['tRNA/tRNA-Tyr-TAC', '798,129', 0.01883610622315736, '11,056', '70,914'],\n",
        " ['A-rich', '784,194', 0.018507235651834052, '0', '0'],\n",
        " ['DNA/CMC-Chapaev', '630,495', 0.014879888831466589, '10,328', '48,023'],\n",
        " ['DNA/Academ', '574,063', 0.013548075119165425, '1,046', '81,771'],\n",
        " ['LINE/L1-Tx1', '524,451', 0.012377215644139104, '547', '44,765'],\n",
        " ['DNA/Sola', '494,505', 0.011670480220468658, '16,971', '181,976'],\n",
        " ['DNA/MuLE-MuDR', '483,236', 0.011404528123716428, '4,024', '145,202'],\n",
        " ['DNA/hAT-hATx', '453,462', 0.01070185195646992, '4,520', '40,765'],\n",
        " ['DNA/TcMar-Stowaway', '453,269', 0.010697297093157011, '22,499', '78,386'],\n",
        " ['DNA/TcMar-m44', '419,014', 0.009888867855935641, '7,743', '81,518'],\n",
        " ['DNA/hAT-hobo', '411,985', 0.009722981150099149, '3,421', '125,269'],\n",
        " ['DNA/PiggyBac', '411,256', 0.009705776510953494, '3,826', '120,442'],\n",
        " ['SINE/AluSg4', '362,484', 0.008554741311485953, '33,966', '72,604'],\n",
        " ['LTR', '330,040', 0.007789052268356186, '6,205', '100,873'],\n",
        " ['DNA/TcMar-Fot1', '324,492', 0.007658117648356064, '6,739', '103,615'],\n",
        " ['LINE/DRE', '319,010', 0.007528740650006989, '1,348', '38,563'],\n",
        " ['GA-rich', '225,142', 0.0053134250569696045, '0', '0'],\n",
        " ['LINE/CRE-II', '209,268', 0.004938793449564787, '1,539', '46,786'],\n",
        " ['LTR/ERVL', '158,220', 0.003734043903464173, '492', '13,662'],\n",
        " ['DNA/TcMar-ISRm11', '118,126', 0.002787812350781247, '499', '29,284'],\n",
        " ['G-rich', '64,962', 0.0015331245105349488, '0', '0']]"
       ]
      }
     ],
     "prompt_number": 65
    }
   ],
   "metadata": {}
  }
 ]
}